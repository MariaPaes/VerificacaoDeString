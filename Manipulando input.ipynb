{
 "cells": [
  {
   "cell_type": "code",
   "execution_count": null,
   "metadata": {},
   "outputs": [],
   "source": [
    "class Resposta:\n",
    "\n",
    "  def __init__(self):\n",
    "    self.s = input(\"Digite a palavra: \").upper()\n",
    "    self.verificaResposta()\n",
    "\n",
    "  def verificaResposta(self):\n",
    "    if self.s == \"YES\":\n",
    "        print(\"SIM\")\n",
    "    else:\n",
    "        print(\"NÃO\")\n",
    "\n",
    "    self.loop()\n",
    "\n",
    "  def loop(self):\n",
    "      respostaLoop = input(\"\\nDeseja verificar a pontuação de alguma outra palavra? (sim / nao): \").lower()\n",
    "      if (respostaLoop == \"sim\") or (respostaLoop == \"s\"):\n",
    "        novaLista = Resposta()\n",
    "      elif (respostaLoop == \"nao\") or (respostaLoop == \"n\"):\n",
    "        print(\"\\nOk. Até a próxima!\")\n",
    "      else:\n",
    "        print(\"\\nEntrada inválida. Até a próxima!\")\n",
    "\n",
    "resposta = Resposta()"
   ]
  }
 ],
 "metadata": {
  "language_info": {
   "name": "python"
  }
 },
 "nbformat": 4,
 "nbformat_minor": 2
}
